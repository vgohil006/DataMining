{
 "cells": [
  {
   "cell_type": "markdown",
   "metadata": {},
   "source": [
    "# Building Neural Network Model"
   ]
  },
  {
   "cell_type": "code",
   "execution_count": 1,
   "metadata": {},
   "outputs": [],
   "source": [
    "#Import Libraries\n",
    "import pandas as pd\n",
    "import os\n",
    "import numpy as np\n",
    "import matplotlib.pyplot as plt"
   ]
  },
  {
   "cell_type": "code",
   "execution_count": 2,
   "metadata": {},
   "outputs": [],
   "source": [
    "filepath = os.path.join(\"..\",\"Course Work\")"
   ]
  },
  {
   "cell_type": "code",
   "execution_count": 3,
   "metadata": {},
   "outputs": [],
   "source": [
    "#read the marketing campaing csv file in to a dataframe\n",
    "nnMark = pd.read_csv(os.path.join(filepath,\"ModifiedMarketingClean.csv\"))"
   ]
  },
  {
   "cell_type": "code",
   "execution_count": 4,
   "metadata": {},
   "outputs": [
    {
     "data": {
      "text/html": [
       "<div>\n",
       "<style scoped>\n",
       "    .dataframe tbody tr th:only-of-type {\n",
       "        vertical-align: middle;\n",
       "    }\n",
       "\n",
       "    .dataframe tbody tr th {\n",
       "        vertical-align: top;\n",
       "    }\n",
       "\n",
       "    .dataframe thead th {\n",
       "        text-align: right;\n",
       "    }\n",
       "</style>\n",
       "<table border=\"1\" class=\"dataframe\">\n",
       "  <thead>\n",
       "    <tr style=\"text-align: right;\">\n",
       "      <th></th>\n",
       "      <th>CUST_ID</th>\n",
       "      <th>CUST_GENDER</th>\n",
       "      <th>AGE</th>\n",
       "      <th>COUNTRY_NAME</th>\n",
       "      <th>CUST_INCOME_LEVEL</th>\n",
       "      <th>EDUCATION</th>\n",
       "      <th>OCCUPATION</th>\n",
       "      <th>HOUSEHOLD_SIZE</th>\n",
       "      <th>AFFINITY_CARD</th>\n",
       "      <th>BULK_PACK_DISKETTES</th>\n",
       "      <th>FLAT_PANEL_MONITOR</th>\n",
       "      <th>HOME_THEATER_PACKAGE</th>\n",
       "      <th>BOOKKEEPING_APPLICATION</th>\n",
       "      <th>PRINTER_SUPPLIES</th>\n",
       "      <th>Y_BOX_GAMES</th>\n",
       "      <th>OS_DOC_SET_KANJI</th>\n",
       "      <th>COMMENTS</th>\n",
       "    </tr>\n",
       "  </thead>\n",
       "  <tbody>\n",
       "    <tr>\n",
       "      <th>0</th>\n",
       "      <td>101501</td>\n",
       "      <td>0</td>\n",
       "      <td>41</td>\n",
       "      <td>18</td>\n",
       "      <td>3</td>\n",
       "      <td>12</td>\n",
       "      <td>Prof.</td>\n",
       "      <td>3</td>\n",
       "      <td>0</td>\n",
       "      <td>1</td>\n",
       "      <td>1</td>\n",
       "      <td>1</td>\n",
       "      <td>1</td>\n",
       "      <td>1</td>\n",
       "      <td>0</td>\n",
       "      <td>0</td>\n",
       "      <td>Shopping at your store is a hassle. I rarely s...</td>\n",
       "    </tr>\n",
       "    <tr>\n",
       "      <th>1</th>\n",
       "      <td>101502</td>\n",
       "      <td>1</td>\n",
       "      <td>27</td>\n",
       "      <td>18</td>\n",
       "      <td>3</td>\n",
       "      <td>10</td>\n",
       "      <td>Sales</td>\n",
       "      <td>3</td>\n",
       "      <td>0</td>\n",
       "      <td>1</td>\n",
       "      <td>1</td>\n",
       "      <td>0</td>\n",
       "      <td>1</td>\n",
       "      <td>1</td>\n",
       "      <td>1</td>\n",
       "      <td>0</td>\n",
       "      <td>Affinity card is great. I think it is a hassle...</td>\n",
       "    </tr>\n",
       "    <tr>\n",
       "      <th>2</th>\n",
       "      <td>101503</td>\n",
       "      <td>0</td>\n",
       "      <td>20</td>\n",
       "      <td>18</td>\n",
       "      <td>3</td>\n",
       "      <td>11</td>\n",
       "      <td>Cleric.</td>\n",
       "      <td>3</td>\n",
       "      <td>0</td>\n",
       "      <td>1</td>\n",
       "      <td>0</td>\n",
       "      <td>0</td>\n",
       "      <td>1</td>\n",
       "      <td>1</td>\n",
       "      <td>1</td>\n",
       "      <td>0</td>\n",
       "      <td>I purchased a new computer recently, but the m...</td>\n",
       "    </tr>\n",
       "    <tr>\n",
       "      <th>3</th>\n",
       "      <td>101504</td>\n",
       "      <td>1</td>\n",
       "      <td>45</td>\n",
       "      <td>18</td>\n",
       "      <td>1</td>\n",
       "      <td>10</td>\n",
       "      <td>Exec.</td>\n",
       "      <td>4</td>\n",
       "      <td>1</td>\n",
       "      <td>0</td>\n",
       "      <td>0</td>\n",
       "      <td>1</td>\n",
       "      <td>1</td>\n",
       "      <td>1</td>\n",
       "      <td>0</td>\n",
       "      <td>0</td>\n",
       "      <td>Affinity card is great. I think it is a hassle...</td>\n",
       "    </tr>\n",
       "    <tr>\n",
       "      <th>4</th>\n",
       "      <td>101505</td>\n",
       "      <td>1</td>\n",
       "      <td>34</td>\n",
       "      <td>18</td>\n",
       "      <td>3</td>\n",
       "      <td>12</td>\n",
       "      <td>Sales</td>\n",
       "      <td>5</td>\n",
       "      <td>1</td>\n",
       "      <td>1</td>\n",
       "      <td>1</td>\n",
       "      <td>0</td>\n",
       "      <td>1</td>\n",
       "      <td>1</td>\n",
       "      <td>0</td>\n",
       "      <td>0</td>\n",
       "      <td>Why didn't you start a program like this befor...</td>\n",
       "    </tr>\n",
       "  </tbody>\n",
       "</table>\n",
       "</div>"
      ],
      "text/plain": [
       "   CUST_ID  CUST_GENDER  AGE  COUNTRY_NAME  CUST_INCOME_LEVEL  EDUCATION  \\\n",
       "0   101501            0   41            18                  3         12   \n",
       "1   101502            1   27            18                  3         10   \n",
       "2   101503            0   20            18                  3         11   \n",
       "3   101504            1   45            18                  1         10   \n",
       "4   101505            1   34            18                  3         12   \n",
       "\n",
       "  OCCUPATION  HOUSEHOLD_SIZE  AFFINITY_CARD  BULK_PACK_DISKETTES  \\\n",
       "0      Prof.               3              0                    1   \n",
       "1      Sales               3              0                    1   \n",
       "2    Cleric.               3              0                    1   \n",
       "3      Exec.               4              1                    0   \n",
       "4      Sales               5              1                    1   \n",
       "\n",
       "   FLAT_PANEL_MONITOR  HOME_THEATER_PACKAGE  BOOKKEEPING_APPLICATION  \\\n",
       "0                   1                     1                        1   \n",
       "1                   1                     0                        1   \n",
       "2                   0                     0                        1   \n",
       "3                   0                     1                        1   \n",
       "4                   1                     0                        1   \n",
       "\n",
       "   PRINTER_SUPPLIES  Y_BOX_GAMES  OS_DOC_SET_KANJI  \\\n",
       "0                 1            0                 0   \n",
       "1                 1            1                 0   \n",
       "2                 1            1                 0   \n",
       "3                 1            0                 0   \n",
       "4                 1            0                 0   \n",
       "\n",
       "                                            COMMENTS  \n",
       "0  Shopping at your store is a hassle. I rarely s...  \n",
       "1  Affinity card is great. I think it is a hassle...  \n",
       "2  I purchased a new computer recently, but the m...  \n",
       "3  Affinity card is great. I think it is a hassle...  \n",
       "4  Why didn't you start a program like this befor...  "
      ]
     },
     "execution_count": 4,
     "metadata": {},
     "output_type": "execute_result"
    }
   ],
   "source": [
    "nnMark.head()"
   ]
  },
  {
   "cell_type": "code",
   "execution_count": 5,
   "metadata": {},
   "outputs": [],
   "source": [
    "X = nnMark.iloc[:, 1:9].values\n",
    "y = nnMark.iloc[:, 8].values"
   ]
  },
  {
   "cell_type": "code",
   "execution_count": 6,
   "metadata": {},
   "outputs": [
    {
     "data": {
      "text/plain": [
       "array([[0, 41, 18, ..., 'Prof.', 3, 0],\n",
       "       [1, 27, 18, ..., 'Sales', 3, 0],\n",
       "       [0, 20, 18, ..., 'Cleric.', 3, 0],\n",
       "       ...,\n",
       "       [1, 53, 18, ..., 'Exec.', 4, 1],\n",
       "       [1, 55, 18, ..., 'Cleric.', 4, 1],\n",
       "       [0, 40, 18, ..., 'Cleric.', 3, 0]], dtype=object)"
      ]
     },
     "execution_count": 6,
     "metadata": {},
     "output_type": "execute_result"
    }
   ],
   "source": [
    "X"
   ]
  },
  {
   "cell_type": "code",
   "execution_count": 7,
   "metadata": {},
   "outputs": [],
   "source": [
    "from sklearn.preprocessing import LabelEncoder, OneHotEncoder\n",
    "labelencoder_X_1 = LabelEncoder()\n",
    "X[:, 5] = labelencoder_X_1.fit_transform(X[:, 5])"
   ]
  },
  {
   "cell_type": "code",
   "execution_count": 8,
   "metadata": {},
   "outputs": [
    {
     "data": {
      "text/plain": [
       "(1427, 8)"
      ]
     },
     "execution_count": 8,
     "metadata": {},
     "output_type": "execute_result"
    }
   ],
   "source": [
    "X.shape"
   ]
  },
  {
   "cell_type": "code",
   "execution_count": 29,
   "metadata": {},
   "outputs": [],
   "source": [
    "# Splitting the dataset into the Training set and Test set\n",
    "from sklearn.model_selection import train_test_split\n",
    "X_train, X_test, y_train, y_test = train_test_split(X, y, test_size = 0.4)"
   ]
  },
  {
   "cell_type": "code",
   "execution_count": 30,
   "metadata": {},
   "outputs": [
    {
     "name": "stderr",
     "output_type": "stream",
     "text": [
      "/anaconda3/lib/python3.6/site-packages/sklearn/utils/validation.py:475: DataConversionWarning: Data with input dtype object was converted to float64 by StandardScaler.\n",
      "  warnings.warn(msg, DataConversionWarning)\n"
     ]
    }
   ],
   "source": [
    "# Feature Scaling\n",
    "from sklearn.preprocessing import StandardScaler\n",
    "sc = StandardScaler()\n",
    "X_train = sc.fit_transform(X_train)\n",
    "X_test = sc.transform(X_test)"
   ]
  },
  {
   "cell_type": "code",
   "execution_count": 11,
   "metadata": {},
   "outputs": [
    {
     "name": "stderr",
     "output_type": "stream",
     "text": [
      "/anaconda3/lib/python3.6/site-packages/h5py/__init__.py:36: FutureWarning: Conversion of the second argument of issubdtype from `float` to `np.floating` is deprecated. In future, it will be treated as `np.float64 == np.dtype(float).type`.\n",
      "  from ._conv import register_converters as _register_converters\n",
      "Using TensorFlow backend.\n"
     ]
    }
   ],
   "source": [
    "# Importing the Keras libraries and packages\n",
    "import keras\n",
    "from keras.models import Sequential\n",
    "from keras.layers import Dense"
   ]
  },
  {
   "cell_type": "code",
   "execution_count": null,
   "metadata": {},
   "outputs": [],
   "source": [
    "print(keras.__version__)"
   ]
  },
  {
   "cell_type": "code",
   "execution_count": 31,
   "metadata": {},
   "outputs": [],
   "source": [
    "#Initializing Neural Network\n",
    "classifier = Sequential()"
   ]
  },
  {
   "cell_type": "code",
   "execution_count": 43,
   "metadata": {},
   "outputs": [
    {
     "name": "stderr",
     "output_type": "stream",
     "text": [
      "/anaconda3/lib/python3.6/site-packages/ipykernel_launcher.py:2: UserWarning: Update your `Dense` call to the Keras 2 API: `Dense(activation=\"relu\", input_dim=8, units=2, kernel_initializer=\"uniform\")`\n",
      "  \n",
      "/anaconda3/lib/python3.6/site-packages/ipykernel_launcher.py:4: UserWarning: Update your `Dense` call to the Keras 2 API: `Dense(activation=\"relu\", units=2, kernel_initializer=\"uniform\")`\n",
      "  after removing the cwd from sys.path.\n",
      "/anaconda3/lib/python3.6/site-packages/ipykernel_launcher.py:6: UserWarning: Update your `Dense` call to the Keras 2 API: `Dense(activation=\"sigmoid\", units=1, kernel_initializer=\"uniform\")`\n",
      "  \n"
     ]
    }
   ],
   "source": [
    "# Adding the input layer and the first hidden layer\n",
    "classifier.add(Dense(output_dim = 2, init = 'uniform', activation = 'relu', input_dim = 8))\n",
    "# Adding the second hidden layer\n",
    "classifier.add(Dense(output_dim = 2, init = 'uniform', activation = 'relu'))\n",
    "# Adding the output layer\n",
    "classifier.add(Dense(output_dim = 1, init = 'uniform', activation = 'sigmoid'))"
   ]
  },
  {
   "cell_type": "code",
   "execution_count": 44,
   "metadata": {},
   "outputs": [],
   "source": [
    "# Compiling Neural Network\n",
    "classifier.compile(optimizer = 'adam', loss = 'binary_crossentropy', metrics = ['accuracy'])"
   ]
  },
  {
   "cell_type": "code",
   "execution_count": 46,
   "metadata": {},
   "outputs": [
    {
     "data": {
      "text/plain": [
       "(856, 8)"
      ]
     },
     "execution_count": 46,
     "metadata": {},
     "output_type": "execute_result"
    }
   ],
   "source": [
    "X_train.shape"
   ]
  },
  {
   "cell_type": "code",
   "execution_count": 48,
   "metadata": {},
   "outputs": [
    {
     "name": "stdout",
     "output_type": "stream",
     "text": [
      "Epoch 1/50\n",
      "856/856 [==============================] - 0s 210us/step - loss: 0.5637 - acc: 0.7523\n",
      "Epoch 2/50\n",
      "856/856 [==============================] - 0s 174us/step - loss: 0.5630 - acc: 0.7523\n",
      "Epoch 3/50\n",
      "856/856 [==============================] - 0s 170us/step - loss: 0.5624 - acc: 0.7523\n",
      "Epoch 4/50\n",
      "856/856 [==============================] - 0s 166us/step - loss: 0.5619 - acc: 0.7523\n",
      "Epoch 5/50\n",
      "856/856 [==============================] - 0s 165us/step - loss: 0.5615 - acc: 0.7523\n",
      "Epoch 6/50\n",
      "856/856 [==============================] - 0s 167us/step - loss: 0.5612 - acc: 0.7523\n",
      "Epoch 7/50\n",
      "856/856 [==============================] - 0s 177us/step - loss: 0.5609 - acc: 0.7523\n",
      "Epoch 8/50\n",
      "856/856 [==============================] - 0s 170us/step - loss: 0.5607 - acc: 0.7523\n",
      "Epoch 9/50\n",
      "856/856 [==============================] - 0s 178us/step - loss: 0.5605 - acc: 0.7523\n",
      "Epoch 10/50\n",
      "856/856 [==============================] - 0s 168us/step - loss: 0.5604 - acc: 0.7523\n",
      "Epoch 11/50\n",
      "856/856 [==============================] - 0s 169us/step - loss: 0.5603 - acc: 0.7523\n",
      "Epoch 12/50\n",
      "856/856 [==============================] - 0s 167us/step - loss: 0.5602 - acc: 0.7523\n",
      "Epoch 13/50\n",
      "856/856 [==============================] - 0s 171us/step - loss: 0.5601 - acc: 0.7523\n",
      "Epoch 14/50\n",
      "856/856 [==============================] - 0s 173us/step - loss: 0.5600 - acc: 0.7523\n",
      "Epoch 15/50\n",
      "856/856 [==============================] - 0s 176us/step - loss: 0.5600 - acc: 0.7523\n",
      "Epoch 16/50\n",
      "856/856 [==============================] - 0s 175us/step - loss: 0.5600 - acc: 0.7523\n",
      "Epoch 17/50\n",
      "856/856 [==============================] - 0s 176us/step - loss: 0.5599 - acc: 0.7523\n",
      "Epoch 18/50\n",
      "856/856 [==============================] - 0s 179us/step - loss: 0.5599 - acc: 0.7523\n",
      "Epoch 19/50\n",
      "856/856 [==============================] - 0s 178us/step - loss: 0.5599 - acc: 0.7523\n",
      "Epoch 20/50\n",
      "856/856 [==============================] - 0s 177us/step - loss: 0.5599 - acc: 0.7523\n",
      "Epoch 21/50\n",
      "856/856 [==============================] - 0s 210us/step - loss: 0.5599 - acc: 0.7523\n",
      "Epoch 22/50\n",
      "856/856 [==============================] - 0s 190us/step - loss: 0.5599 - acc: 0.7523\n",
      "Epoch 23/50\n",
      "856/856 [==============================] - 0s 176us/step - loss: 0.5599 - acc: 0.7523\n",
      "Epoch 24/50\n",
      "856/856 [==============================] - 0s 176us/step - loss: 0.5598 - acc: 0.7523\n",
      "Epoch 25/50\n",
      "856/856 [==============================] - 0s 175us/step - loss: 0.5598 - acc: 0.7523\n",
      "Epoch 26/50\n",
      "856/856 [==============================] - 0s 205us/step - loss: 0.5599 - acc: 0.7523\n",
      "Epoch 27/50\n",
      "856/856 [==============================] - 0s 192us/step - loss: 0.5598 - acc: 0.7523\n",
      "Epoch 28/50\n",
      "856/856 [==============================] - 0s 231us/step - loss: 0.5598 - acc: 0.7523\n",
      "Epoch 29/50\n",
      "856/856 [==============================] - 0s 188us/step - loss: 0.5598 - acc: 0.7523\n",
      "Epoch 30/50\n",
      "856/856 [==============================] - 0s 161us/step - loss: 0.5598 - acc: 0.7523\n",
      "Epoch 31/50\n",
      "856/856 [==============================] - 0s 162us/step - loss: 0.5598 - acc: 0.7523\n",
      "Epoch 32/50\n",
      "856/856 [==============================] - 0s 167us/step - loss: 0.5598 - acc: 0.7523\n",
      "Epoch 33/50\n",
      "856/856 [==============================] - 0s 184us/step - loss: 0.5598 - acc: 0.7523\n",
      "Epoch 34/50\n",
      "856/856 [==============================] - 0s 191us/step - loss: 0.5599 - acc: 0.7523\n",
      "Epoch 35/50\n",
      "856/856 [==============================] - 0s 179us/step - loss: 0.5598 - acc: 0.7523\n",
      "Epoch 36/50\n",
      "856/856 [==============================] - 0s 216us/step - loss: 0.5598 - acc: 0.7523\n",
      "Epoch 37/50\n",
      "856/856 [==============================] - 0s 177us/step - loss: 0.5598 - acc: 0.7523\n",
      "Epoch 38/50\n",
      "856/856 [==============================] - 0s 165us/step - loss: 0.5598 - acc: 0.7523\n",
      "Epoch 39/50\n",
      "856/856 [==============================] - 0s 158us/step - loss: 0.5598 - acc: 0.7523\n",
      "Epoch 40/50\n",
      "856/856 [==============================] - 0s 162us/step - loss: 0.5598 - acc: 0.7523\n",
      "Epoch 41/50\n",
      "856/856 [==============================] - 0s 196us/step - loss: 0.5598 - acc: 0.7523\n",
      "Epoch 42/50\n",
      "856/856 [==============================] - 0s 225us/step - loss: 0.5598 - acc: 0.7523\n",
      "Epoch 43/50\n",
      "856/856 [==============================] - 0s 192us/step - loss: 0.5598 - acc: 0.7523\n",
      "Epoch 44/50\n",
      "856/856 [==============================] - 0s 182us/step - loss: 0.5598 - acc: 0.7523\n",
      "Epoch 45/50\n",
      "856/856 [==============================] - 0s 170us/step - loss: 0.5598 - acc: 0.7523\n",
      "Epoch 46/50\n",
      "856/856 [==============================] - 0s 172us/step - loss: 0.5599 - acc: 0.7523\n",
      "Epoch 47/50\n",
      "856/856 [==============================] - 0s 182us/step - loss: 0.5598 - acc: 0.7523\n",
      "Epoch 48/50\n",
      "856/856 [==============================] - 0s 181us/step - loss: 0.5598 - acc: 0.7523\n",
      "Epoch 49/50\n",
      "856/856 [==============================] - 0s 176us/step - loss: 0.5598 - acc: 0.7523\n",
      "Epoch 50/50\n",
      "856/856 [==============================] - 0s 181us/step - loss: 0.5598 - acc: 0.7523\n"
     ]
    },
    {
     "data": {
      "text/plain": [
       "<keras.callbacks.History at 0x1a23ac88d0>"
      ]
     },
     "execution_count": 48,
     "metadata": {},
     "output_type": "execute_result"
    }
   ],
   "source": [
    "# Fitting our model \n",
    "\n",
    "classifier.fit(X_train, y_train, batch_size = 10, epochs = 50)"
   ]
  },
  {
   "cell_type": "code",
   "execution_count": 49,
   "metadata": {},
   "outputs": [],
   "source": [
    "# Predicting the Test set results\n",
    "y_pred = classifier.predict(X_test)\n",
    "y_pred = (y_pred > 0.5)"
   ]
  },
  {
   "cell_type": "code",
   "execution_count": 50,
   "metadata": {},
   "outputs": [
    {
     "data": {
      "text/plain": [
       "Text(0.5,257.44,'Predicted label')"
      ]
     },
     "execution_count": 50,
     "metadata": {},
     "output_type": "execute_result"
    },
    {
     "data": {
      "image/png": "[encoded data removed]",
      "text/plain": [
       "<matplotlib.figure.Figure at 0x1a233338d0>"
      ]
     },
     "metadata": {},
     "output_type": "display_data"
    }
   ],
   "source": [
    "# Creating the Confusion Matrix\n",
    "from sklearn.metrics import confusion_matrix\n",
    "cm = confusion_matrix(y_test, y_pred)\n",
    "\n",
    "import seaborn as sns\n",
    "\n",
    "class_names = [0,1] # name of the target variable 'label' class\n",
    "fig, ax = plt.subplots()\n",
    "tick_marks = np.arange(len(class_names))\n",
    "plt.xticks(tick_marks, class_names)\n",
    "plt.yticks(tick_marks, class_names)\n",
    "\n",
    "# create heatmap\n",
    "sns.heatmap(pd.DataFrame(cm), annot=True, cmap=\"YlOrRd\" ,fmt='g')\n",
    "ax.xaxis.set_label_position(\"top\")\n",
    "plt.tight_layout()\n",
    "plt.title('Confusion matrix', y=1.1)\n",
    "plt.ylabel('Actual label')\n",
    "plt.xlabel('Predicted label')"
   ]
  },
  {
   "cell_type": "code",
   "execution_count": 25,
   "metadata": {},
   "outputs": [
    {
     "data": {
      "text/plain": [
       "array([[216,   0],\n",
       "       [  0,  70]])"
      ]
     },
     "execution_count": 25,
     "metadata": {},
     "output_type": "execute_result"
    }
   ],
   "source": [
    "cm"
   ]
  }
 ],
 "metadata": {
  "kernelspec": {
   "display_name": "Python 3",
   "language": "python",
   "name": "python3"
  },
  "language_info": {
   "codemirror_mode": {
    "name": "ipython",
    "version": 3
   },
   "file_extension": ".py",
   "mimetype": "text/x-python",
   "name": "python",
   "nbconvert_exporter": "python",
   "pygments_lexer": "ipython3",
   "version": "3.6.6"
  }
 },
 "nbformat": 4,
 "nbformat_minor": 2
}
